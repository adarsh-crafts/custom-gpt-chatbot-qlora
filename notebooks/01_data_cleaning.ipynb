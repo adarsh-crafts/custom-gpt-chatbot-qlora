{
 "cells": [
  {
   "cell_type": "code",
   "execution_count": 1,
   "id": "dd9edf24",
   "metadata": {},
   "outputs": [],
   "source": [
    "import pandas as pd\n",
    "import re"
   ]
  },
  {
   "cell_type": "code",
   "execution_count": 2,
   "id": "614cb379",
   "metadata": {},
   "outputs": [],
   "source": [
    "def read_whatsapp_chat(file_path) -> pd.DataFrame:\n",
    "\n",
    "    # Defining filtering patterns\n",
    "    encryption_message = \"Messages and calls are end-to-end encrypted. No one outside of this chat, not even WhatsApp, can read or listen to them. Tap to learn more.\"\n",
    "    media_pattern = \"<Media omitted>\"\n",
    "    email_pattern = r'[A-Za-z0-9._%+-]+@[A-Za-z0-9.-]+\\.[A-Z|a-z]{2,}'  # the 'r' tells python to read it as raw text so '\\' will be treated as '\\'\n",
    "    url_pattern = r'http[s]?://(?:[a-zA-Z]|[0-9]|[$-_@.&+]|[!*\\(\\),]|(?:%[0-9a-fA-F][0-9a-fA-F]))+'\n",
    "    edited_message = \"<This message was edited>\"\n",
    "    deleted_message = \"You deleted this message\"\n",
    "    null_message = \"null\"\n",
    "    created_group_message = \"created group\"\n",
    "    added_you_to_group_message = \"added you\"\n",
    "    tagging_pattern = r'@[\\w]+'\n",
    "\n",
    "    # Read the file\n",
    "    with open(file_path, 'r', encoding='utf-8') as f:\n",
    "        lines = f.readlines()\n",
    "\n",
    "    # Filter out the unwanted lines\n",
    "    filtered_lines = []\n",
    "    for line in lines:\n",
    "        if (\n",
    "            encryption_message not in line and \n",
    "            deleted_message not in line and\n",
    "            null_message not in line and\n",
    "            media_pattern not in line and\n",
    "            created_group_message not in line and\n",
    "            added_you_to_group_message not in line and\n",
    "            not re.search(email_pattern, line) and \n",
    "            not re.search(url_pattern, line)\n",
    "        ):\n",
    "            # for the below, the core message is good but it has some noise associated which we are removing\n",
    "            line = line.replace(edited_message, \"\").strip()\n",
    "            line = re.sub(tagging_pattern, \"\", line).strip()\n",
    "            filtered_lines.append(line)\n",
    "\n",
    "    # normalize content\n",
    "    content = '\\n'.join(filtered_lines)\n",
    "\n",
    "    # ios specific cleaning\n",
    "    content = content.replace('\\u202f', ' ')  # replacing narrow space char\n",
    "    content = re.sub(r'\\[(\\d{1,2}/\\d{1,2}/\\d{2,4}, \\d{1,2}:\\d{2}(?::\\d{2})?\\s?[APap][Mm])\\]',r'\\1', content)  # removing square brackets around timestamp\n",
    "        \n",
    "    # characters that tell how to read, left to right or right to left\n",
    "    content = content.replace('\\u200E', '').replace('\\u200F', '')\n",
    "\n",
    "    pattern = r'(\\d{1,2}/\\d{1,2}/\\d{2,4}, \\d{1,2}:\\d{2}(?::\\d{2})?(?:\\s?[APap][Mm])?)\\s?(?:-|\\~)?\\s?(.*?): (.*?)(?=\\n\\d{1,2}/\\d{1,2}/\\d{2,4}, \\d{1,2}:\\d{2}|$)'\n",
    "    messages = re.findall(pattern, content, re.DOTALL)\n",
    "\n",
    "    df = pd.DataFrame(messages, columns = ['timestamp', 'sender', 'message'])\n",
    "\n",
    "    timestamps = []\n",
    "    for timestamp in df['timestamp']:\n",
    "        try:\n",
    "            timestamp = pd.to_datetime(timestamp, format='mixed', errors='coerce')\n",
    "            \n",
    "        except Exception as e:\n",
    "            print(f'Error prsing timestamp \\'{timestamp}\\': {e}')\n",
    "            timestamp = pd.NaT # converting time format errors that we could not prase into a \"Not a Time\" value\n",
    "\n",
    "        timestamps.append(timestamp)\n",
    "\n",
    "    df['timestamp'] = timestamps\n",
    "    return df"
   ]
  },
  {
   "cell_type": "code",
   "execution_count": 3,
   "id": "261cc754",
   "metadata": {},
   "outputs": [],
   "source": [
    "from pathlib import Path\n",
    "\n",
    "all_chats = {}\n",
    "data_directory = Path('../data/private')\n",
    "\n",
    "for file in data_directory.glob('*.txt'):\n",
    "    file_name = file.stem\n",
    "    all_chats[file_name] = read_whatsapp_chat(file)"
   ]
  },
  {
   "cell_type": "markdown",
   "id": "8a3b3c92",
   "metadata": {},
   "source": [
    "Now `all_chats` is dictionary containing the cleaned texts of each file in a DataFrame format."
   ]
  },
  {
   "cell_type": "code",
   "execution_count": 14,
   "id": "6b4b0f66",
   "metadata": {},
   "outputs": [
    {
     "data": {
      "text/plain": [
       "1185064"
      ]
     },
     "execution_count": 14,
     "metadata": {},
     "output_type": "execute_result"
    }
   ],
   "source": [
    "text_sequence = \"\"\n",
    "for file_name in all_chats.keys():\n",
    "    text_sequence += \" \".join(all_chats[file_name]['message'].values)\n",
    "\n",
    "len(text_sequence)"
   ]
  },
  {
   "cell_type": "markdown",
   "id": "14c765b0",
   "metadata": {},
   "source": [
    "Now `text_sequence` is a long sequence of all texts"
   ]
  },
  {
   "cell_type": "code",
   "execution_count": 15,
   "id": "59e3f341",
   "metadata": {},
   "outputs": [],
   "source": [
    "\n",
    "with open(\"../data/private/output/combined_text.txt\", \"w\", encoding=\"utf-8\") as f:\n",
    "    f.write(text_sequence)"
   ]
  }
 ],
 "metadata": {
  "kernelspec": {
   "display_name": "venv",
   "language": "python",
   "name": "python3"
  },
  "language_info": {
   "codemirror_mode": {
    "name": "ipython",
    "version": 3
   },
   "file_extension": ".py",
   "mimetype": "text/x-python",
   "name": "python",
   "nbconvert_exporter": "python",
   "pygments_lexer": "ipython3",
   "version": "3.11.9"
  }
 },
 "nbformat": 4,
 "nbformat_minor": 5
}
