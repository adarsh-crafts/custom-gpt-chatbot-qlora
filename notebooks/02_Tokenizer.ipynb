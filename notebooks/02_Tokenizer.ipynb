{
 "cells": [
  {
   "cell_type": "markdown",
   "id": "58ae4345",
   "metadata": {},
   "source": [
    "# Byte-Pair Encoding Algorithm"
   ]
  },
  {
   "cell_type": "markdown",
   "id": "e187a59c",
   "metadata": {},
   "source": [
    "##### Reading the text file into a variable  \n",
    "\n",
    "`utf-8` is the modern, dominant standard because its rulebook contains a number for almost every character and symbol in the world."
   ]
  },
  {
   "cell_type": "code",
   "execution_count": 7,
   "id": "298cdffd",
   "metadata": {},
   "outputs": [
    {
     "data": {
      "text/plain": [
       "1185064"
      ]
     },
     "execution_count": 7,
     "metadata": {},
     "output_type": "execute_result"
    }
   ],
   "source": [
    "with open(\"../data/private/output/combined_text.txt\", \"r\", encoding=\"utf-8\") as f:\n",
    "    text_sequence = f.read()\n",
    "\n",
    "len(text_sequence)"
   ]
  },
  {
   "cell_type": "markdown",
   "id": "c0fc651b",
   "metadata": {},
   "source": [
    "##### Set system path so it knows the root directory"
   ]
  },
  {
   "cell_type": "code",
   "execution_count": 1,
   "id": "c4120dc3",
   "metadata": {},
   "outputs": [],
   "source": [
    "import sys\n",
    "sys.path.append('..')"
   ]
  },
  {
   "cell_type": "markdown",
   "id": "54074b9d",
   "metadata": {},
   "source": [
    "##### Train the Tokenizer\n",
    "\n",
    "For now, we use the `BasicTokenizer`, but ther are other oiptions in the `minbpe` package"
   ]
  },
  {
   "cell_type": "code",
   "execution_count": 6,
   "id": "8c762659",
   "metadata": {},
   "outputs": [],
   "source": [
    "from minbpe import BasicTokenizer"
   ]
  },
  {
   "cell_type": "code",
   "execution_count": 8,
   "id": "95a75f50",
   "metadata": {},
   "outputs": [
    {
     "name": "stderr",
     "output_type": "stream",
     "text": [
      "100%|██████████| 768/768 [03:01<00:00,  4.23it/s]\n"
     ]
    }
   ],
   "source": [
    "tokenizer = BasicTokenizer()\n",
    "tokenizer.train(text_sequence, vocab_size=1024)"
   ]
  },
  {
   "cell_type": "markdown",
   "id": "94dee1ad",
   "metadata": {},
   "source": [
    "Now we can see the encoding for each token"
   ]
  },
  {
   "cell_type": "code",
   "execution_count": null,
   "id": "3681b053",
   "metadata": {},
   "outputs": [],
   "source": [
    "vocab = tokenizer.vocab\n",
    "vocab"
   ]
  },
  {
   "cell_type": "markdown",
   "id": "144417bf",
   "metadata": {},
   "source": [
    "##### Test the tokenizer"
   ]
  },
  {
   "cell_type": "code",
   "execution_count": 14,
   "id": "03ae5ac1",
   "metadata": {},
   "outputs": [
    {
     "data": {
      "text/plain": [
       "[896, 269, 111]"
      ]
     },
     "execution_count": 14,
     "metadata": {},
     "output_type": "execute_result"
    }
   ],
   "source": [
    "tokenizer.encode('Hello')"
   ]
  },
  {
   "cell_type": "code",
   "execution_count": 12,
   "id": "e376831c",
   "metadata": {},
   "outputs": [
    {
     "data": {
      "text/plain": [
       "'Hello'"
      ]
     },
     "execution_count": 12,
     "metadata": {},
     "output_type": "execute_result"
    }
   ],
   "source": [
    "tokenizer.decode([896, 269, 111])"
   ]
  },
  {
   "cell_type": "markdown",
   "id": "06db556a",
   "metadata": {},
   "source": [
    "##### Add special tokens\n",
    "*   Adding special tokens that I will use in the fine-tuning and inference step.  \n",
    "*   Special control characters that are added to vocab and are not treated like reuglar text"
   ]
  },
  {
   "cell_type": "code",
   "execution_count": 19,
   "id": "428a1079",
   "metadata": {},
   "outputs": [],
   "source": [
    "max_vocab_id = list(vocab.keys())[-1]  # Getting the id of the last token in the vocab\n",
    "tokenizer.special_tokens = {\n",
    "    '<|startoftext|>': max_vocab_id + 1,  # placed at the beginning of a prompt to signal that a new, independent piece of text is starting\n",
    "    '<|separator|>': max_vocab_id + 2,  # used to seperate diff parts of output: \"[Instruction] <|separator|> [User's Question]\"\n",
    "    '<|endoftext|>': max_vocab_id + 3,  # signals the end of a coherent passage. model will stop generating when it produces this.\n",
    "    '<|unk|>': max_vocab_id + 3,  # if the model encounters an unkown word not in vocab during inference then it replaces that with this token\n",
    "    '<|padding|>': max_vocab_id + 5  # To make all sequences in a batch to the same length, model ignores this token durin atention calculations.\n",
    "}"
   ]
  },
  {
   "cell_type": "markdown",
   "id": "a4b5859d",
   "metadata": {},
   "source": [
    "##### Encode the text using the Tokenizer we trained"
   ]
  },
  {
   "cell_type": "code",
   "execution_count": 21,
   "id": "324c185b",
   "metadata": {},
   "outputs": [
    {
     "data": {
      "text/plain": [
       "446516"
      ]
     },
     "execution_count": 21,
     "metadata": {},
     "output_type": "execute_result"
    }
   ],
   "source": [
    "len(tokenizer.encode(text_sequence))"
   ]
  },
  {
   "cell_type": "code",
   "execution_count": 23,
   "id": "5be85fcc",
   "metadata": {},
   "outputs": [],
   "source": [
    "tokenizer.save(file_prefix='../output/tokenizer/my_tokenizer')"
   ]
  },
  {
   "cell_type": "code",
   "execution_count": null,
   "id": "3fedff3a",
   "metadata": {},
   "outputs": [],
   "source": []
  }
 ],
 "metadata": {
  "kernelspec": {
   "display_name": "venv",
   "language": "python",
   "name": "python3"
  },
  "language_info": {
   "codemirror_mode": {
    "name": "ipython",
    "version": 3
   },
   "file_extension": ".py",
   "mimetype": "text/x-python",
   "name": "python",
   "nbconvert_exporter": "python",
   "pygments_lexer": "ipython3",
   "version": "3.11.9"
  }
 },
 "nbformat": 4,
 "nbformat_minor": 5
}
