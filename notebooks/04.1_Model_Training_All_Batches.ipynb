{
 "cells": [
  {
   "cell_type": "markdown",
   "id": "6e534580",
   "metadata": {},
   "source": [
    "# Pre - Training the model"
   ]
  },
  {
   "cell_type": "markdown",
   "id": "e77d1120",
   "metadata": {},
   "source": [
    "## Load Tokenizer"
   ]
  },
  {
   "cell_type": "code",
   "execution_count": 1,
   "id": "d19026f3",
   "metadata": {},
   "outputs": [],
   "source": [
    "import sys\n",
    "sys.path.append('..')"
   ]
  },
  {
   "cell_type": "code",
   "execution_count": 2,
   "id": "0ecd2010",
   "metadata": {},
   "outputs": [],
   "source": [
    "from minbpe import BasicTokenizer\n",
    "\n",
    "tokenizer = BasicTokenizer()\n",
    "tokenizer.load(model_file = '../output/tokenizer/my_tokenizer.model')"
   ]
  },
  {
   "cell_type": "code",
   "execution_count": 3,
   "id": "a83e9895",
   "metadata": {},
   "outputs": [
    {
     "data": {
      "text/plain": [
       "1033"
      ]
     },
     "execution_count": 3,
     "metadata": {},
     "output_type": "execute_result"
    }
   ],
   "source": [
    "def get_vocab_size(tokenizer: BasicTokenizer) -> int:\n",
    "    vocab = tokenizer.vocab\n",
    "    special_tokens = tokenizer.special_tokens\n",
    "\n",
    "    return len(vocab) + len(special_tokens)\n",
    "\n",
    "get_vocab_size(tokenizer)"
   ]
  },
  {
   "cell_type": "markdown",
   "id": "36ab1c8f",
   "metadata": {},
   "source": [
    "## Create the language model"
   ]
  },
  {
   "cell_type": "code",
   "execution_count": 4,
   "id": "d8800c34",
   "metadata": {},
   "outputs": [
    {
     "data": {
      "text/plain": [
       "<torch._C.Generator at 0x13773b68850>"
      ]
     },
     "execution_count": 4,
     "metadata": {},
     "output_type": "execute_result"
    }
   ],
   "source": [
    "import torch\n",
    "torch.manual_seed(66)"
   ]
  },
  {
   "cell_type": "code",
   "execution_count": 5,
   "id": "fa527cb0",
   "metadata": {},
   "outputs": [
    {
     "name": "stdout",
     "output_type": "stream",
     "text": [
      "0.529161 M parameters\n"
     ]
    }
   ],
   "source": [
    "from transformer.model import GPTLanguageModel\n",
    "\n",
    "block_size = 512  # seq len\n",
    "n_embed = 128\n",
    "n_head = 8\n",
    "n_layer = 1\n",
    "dropout = 0.2\n",
    "batch_size = 128\n",
    "vocab_size = get_vocab_size(tokenizer)\n",
    "device = 'cuda' if torch.cuda.is_available() else 'cpu'\n",
    "\n",
    "model = GPTLanguageModel(\n",
    "    vocab_size = vocab_size,\n",
    "    block_size = block_size,\n",
    "    n_embed = n_embed,\n",
    "    n_head = n_head,\n",
    "    n_layer = n_layer,\n",
    "    dropout=dropout,\n",
    "    device=device\n",
    ").to(device)\n",
    "\n",
    "# commenting out because triton is not fully supported for windows\n",
    "# this is a powerful feature that tries to speed up the model by useing a backend compiler, but it relied on Triton library\n",
    "# model = torch.compile(model)\n",
    "\n",
    "print(sum(p.numel() for p in model.parameters())/1e6, 'M parameters')"
   ]
  },
  {
   "cell_type": "markdown",
   "id": "ce0d6036",
   "metadata": {},
   "source": [
    "## Data Preparation"
   ]
  },
  {
   "cell_type": "markdown",
   "id": "25ba8672",
   "metadata": {},
   "source": [
    "##### 1. Load Dataset"
   ]
  },
  {
   "cell_type": "markdown",
   "id": "1c398a32",
   "metadata": {},
   "source": [
    "Encoding the dataset"
   ]
  },
  {
   "cell_type": "code",
   "execution_count": 6,
   "id": "dabafe94",
   "metadata": {},
   "outputs": [
    {
     "data": {
      "text/plain": [
       "446516"
      ]
     },
     "execution_count": 6,
     "metadata": {},
     "output_type": "execute_result"
    }
   ],
   "source": [
    "with open('../output/combined_text.txt', 'r', encoding='utf-8') as f:\n",
    "    text_sequence = f.read()\n",
    "\n",
    "encoded_text_sequence = tokenizer.encode(text_sequence)\n",
    "len(encoded_text_sequence)"
   ]
  },
  {
   "cell_type": "markdown",
   "id": "18f3e02c",
   "metadata": {},
   "source": [
    "##### 2. Split Dataset"
   ]
  },
  {
   "cell_type": "code",
   "execution_count": 7,
   "id": "eeecd5b9",
   "metadata": {},
   "outputs": [],
   "source": [
    "data = torch.tensor(encoded_text_sequence, dtype=torch.long)\n",
    "\n",
    "split_index = int(0.9 * len(data))\n",
    "\n",
    "train_data = data[:split_index]\n",
    "val_data = data[split_index:]"
   ]
  },
  {
   "cell_type": "markdown",
   "id": "2c711493",
   "metadata": {},
   "source": [
    "##### 3. Data Loader"
   ]
  },
  {
   "cell_type": "markdown",
   "id": "7c2f843c",
   "metadata": {},
   "source": [
    "Creating our dataset loader using Dataset (Recipe) and DataLoader (Chef)"
   ]
  },
  {
   "cell_type": "code",
   "execution_count": 8,
   "id": "530302ba",
   "metadata": {},
   "outputs": [],
   "source": [
    "from typing import Tuple\n",
    "from torch.utils.data import Dataset, DataLoader\n",
    "\n",
    "class TextDataset(Dataset):\n",
    "    def __init__(self, data: torch.Tensor, block_size: int) -> None:\n",
    "        self.data = data\n",
    "        self.block_size = block_size\n",
    "\n",
    "    def __len__(self) -> int:\n",
    "        return len(self.data) - self.block_size\n",
    "    \n",
    "    def __getitem__(self, index: int) -> Tuple[torch.Tensor, torch.Tensor]:\n",
    "        x = self.data[index:index + self.block_size]\n",
    "        y = self.data[index + 1: index + self.block_size + 1]  # cos of how we split the data\n",
    "        return x, y\n",
    "    \n",
    "\n",
    "def get_dataloaders(\n",
    "        train_data: torch.Tensor,\n",
    "        val_data: torch.Tensor,\n",
    "        block_size: int,\n",
    "        batch_size: int,\n",
    "        device: torch.device\n",
    ") -> Tuple[DataLoader, DataLoader]:\n",
    "    \n",
    "    # get the dataset\n",
    "    train_dataset = TextDataset(train_data.to(device), block_size)\n",
    "    val_dataset = TextDataset(val_data.to(device), block_size)\n",
    "\n",
    "    # now create their data loaders\n",
    "    train_loader = DataLoader(train_dataset, batch_size=batch_size, shuffle=True)\n",
    "    val_loader = DataLoader(val_dataset, batch_size=batch_size, shuffle=False)\n",
    "\n",
    "    return train_loader, val_loader"
   ]
  },
  {
   "cell_type": "code",
   "execution_count": 9,
   "id": "216e5999",
   "metadata": {},
   "outputs": [
    {
     "data": {
      "text/plain": [
       "(torch.Size([128, 512]), torch.Size([128, 512]))"
      ]
     },
     "execution_count": 9,
     "metadata": {},
     "output_type": "execute_result"
    }
   ],
   "source": [
    "train_loader, val_loader = get_dataloaders(\n",
    "    train_data=train_data, val_data=val_data, \n",
    "    block_size=block_size, batch_size=batch_size,\n",
    "    device=device)\n",
    "\n",
    "# fetches one single batch of training data\n",
    "x, y = next(iter(train_loader))\n",
    "x.shape, y.shape"
   ]
  },
  {
   "cell_type": "markdown",
   "id": "55bfb46c",
   "metadata": {},
   "source": [
    "## Training"
   ]
  },
  {
   "cell_type": "code",
   "execution_count": 10,
   "id": "ef34e8db",
   "metadata": {},
   "outputs": [],
   "source": [
    "from typing import Dict\n",
    "\n",
    "# gradient is calculated only during training. we turn it off cos its computationally expensive\n",
    "@torch.no_grad\n",
    "def estimate_loss(\n",
    "    model: torch.nn.Module,\n",
    "    train_loader: DataLoader,\n",
    "    val_loader: DataLoader,\n",
    "    eval_iters: int\n",
    ") -> Dict[str, float]:\n",
    "    output = {}\n",
    "    model.eval()\n",
    "\n",
    "    for split, loader in [('train', train_loader), ('val', val_loader)]:\n",
    "        losses = torch.zeros(eval_iters)\n",
    "\n",
    "        for i, (x, y) in enumerate(loader):\n",
    "\n",
    "            # set set eval_iters cos we dont wanna go through all the batches in the validation dataset as it will only slow down the training process\n",
    "            # so we just use some sample batches from validation data\n",
    "            # if you want to eval on batches then comment out the if statement.\n",
    "            if i >= eval_iters:\n",
    "                break\n",
    "            with torch.no_grad():\n",
    "                _, loss = model(x, y)\n",
    "                losses[i] = loss.item()\n",
    "        output[split] = losses.mean().item()\n",
    "\n",
    "    # setting it to train again cos we will resume training after eval\n",
    "    model.train()\n",
    "    return output"
   ]
  },
  {
   "cell_type": "code",
   "execution_count": 11,
   "id": "d06c6693",
   "metadata": {},
   "outputs": [],
   "source": [
    "def save_checkpoint(\n",
    "        model: GPTLanguageModel,\n",
    "        optimizer: torch.optim.Optimizer,\n",
    "        epoch: int,\n",
    "        loss: float,\n",
    "        file_path: str = 'checkpoint.pth'\n",
    ") -> None:\n",
    "    checkpoint = {\n",
    "        'epoch': epoch,\n",
    "        'model_state_dict': model.state_dict(),\n",
    "        'optimizer_state_dict': optimizer.state_dict(),\n",
    "        'loss': loss\n",
    "    }\n",
    "\n",
    "    torch.save(checkpoint, file_path)"
   ]
  },
  {
   "cell_type": "code",
   "execution_count": null,
   "id": "8b20e7e9",
   "metadata": {},
   "outputs": [],
   "source": [
    "\n",
    "# PILOT TESTING HYPERPARAMS\n",
    "max_iters = 1  # epochs\n",
    "eval_interval = 100  # evaluate every 100 epochs\n",
    "eval_iters = 200\n",
    "learning_rate = 1e-4\n",
    "\n",
    "# TRAIN HYPERPARAMS\n",
    "# max_iters = 100  # epochs\n",
    "# eval_interval = 10  # evaluate every 10 epochs\n",
    "# eval_iters = 200\n",
    "# learning_rate = 1e-4\n",
    "\n",
    "optimizer = torch.optim.AdamW(model.parameters(), lr=learning_rate)\n",
    "\n",
    "train_loader, val_loader = get_dataloaders(\n",
    "    train_data=train_data,\n",
    "    val_data=val_data,\n",
    "    block_size=block_size,\n",
    "    batch_size=batch_size,\n",
    "    device=device\n",
    ")\n",
    "\n",
    "# keeping track so we can plot them\n",
    "train_losses = []\n",
    "val_losses = []\n",
    "\n",
    "for iteration in range(max_iters):  # epochs\n",
    "\n",
    "    # inside the epoch, this loop feeds the model data in batches.\n",
    "    # will run until every batch in train_loader has been processed\n",
    "    for batch_idx, (x_batch, y_batch) in enumerate(train_loader):\n",
    "\n",
    "        # Stop and evaluates after every eval_interval no. of batches\n",
    "        if batch_idx % eval_interval == 0 or batch_idx == len(train_loader) -1:\n",
    "            losses = estimate_loss(\n",
    "                model=model,\n",
    "                train_loader=train_loader,\n",
    "                val_loader=val_loader,\n",
    "                eval_iters=min(eval_iters, len(val_loader))\n",
    "            )\n",
    "\n",
    "            train_losses.append(losses['train'])\n",
    "            val_losses.append(losses['val'])\n",
    "\n",
    "            print(\n",
    "                f\"Epoch {iteration} / step {batch_idx}: \"\n",
    "                f\"train loss {losses['train']: .4f}, \"\n",
    "                f\"val loss {losses['val']: .4f}\"\n",
    "            )\n",
    "\n",
    "        # train model\n",
    "        logits, loss = model(x_batch, y_batch)\n",
    "        optimizer.zero_grad(set_to_none=True)  # compute the gradients\n",
    "        loss.backward()  # backpropagation: calc gradient for every learnable parameter in the model. gives direction & qty to adjust\n",
    "        optimizer.step()  # updates the weights accordingly\n",
    "\n",
    "    save_checkpoint(\n",
    "        model=model,\n",
    "        optimizer=optimizer,\n",
    "        epoch=iteration,\n",
    "        loss=loss.item(),\n",
    "        file_path= f'../output/pre-training/run_1/checkpoint_{iteration}.pth'\n",
    "    )"
   ]
  },
  {
   "cell_type": "markdown",
   "id": "6664d8cd",
   "metadata": {},
   "source": [
    "## Training Metrics"
   ]
  },
  {
   "cell_type": "code",
   "execution_count": 13,
   "id": "a41341de",
   "metadata": {},
   "outputs": [
    {
     "data": {
      "image/png": "[encoded data removed]",
      "text/plain": [
       "<Figure size 640x480 with 1 Axes>"
      ]
     },
     "metadata": {},
     "output_type": "display_data"
    }
   ],
   "source": [
    "import seaborn as sns\n",
    "import matplotlib.pyplot as plt\n",
    "\n",
    "epochs = list(range(0, len(train_losses)))\n",
    "\n",
    "\n",
    "sns.lineplot(x=epochs, y=train_losses, label='Train Loss', marker='o')\n",
    "sns.lineplot(x=epochs, y=val_losses, label='Validation Loess', marker='o')\n",
    "plt.xlabel('Epochs')\n",
    "plt.ylabel('Loss')\n",
    "plt.title('Training vs Validation Loss')\n",
    "plt.legend()\n",
    "plt.show()"
   ]
  },
  {
   "cell_type": "markdown",
   "id": "77a4a20c",
   "metadata": {},
   "source": [
    "## Testing the model"
   ]
  },
  {
   "cell_type": "markdown",
   "id": "18731ccc",
   "metadata": {},
   "source": [
    "We add the extra dimension to the tensor cos even if it's a single sequence, we need to add the 'batch' dimension.  \n",
    "initial shape: `[sequence length]` - 1D vector holding the data    \n",
    "new shape: `[1, sequence_length]`"
   ]
  },
  {
   "cell_type": "code",
   "execution_count": null,
   "id": "36ce234f",
   "metadata": {},
   "outputs": [],
   "source": [
    "input_tokens = tokenizer.encode('Hello')\n",
    "\n",
    "# creating tensor\n",
    "input_tokens = torch.tensor(input_tokens, dtype=torch.long).unsqueeze(0).to(device)\n",
    "\n",
    "model.eval()\n",
    "\n",
    "with torch.no_grad():\n",
    "    output = model.generate(input_tokens=input_tokens, max_new_tokens=256)\n",
    "\n",
    "print(tokenizer.decode(output[0].tolist()))"
   ]
  },
  {
   "cell_type": "code",
   "execution_count": null,
   "id": "96690c83",
   "metadata": {},
   "outputs": [],
   "source": []
  }
 ],
 "metadata": {
  "kernelspec": {
   "display_name": "venv",
   "language": "python",
   "name": "python3"
  },
  "language_info": {
   "codemirror_mode": {
    "name": "ipython",
    "version": 3
   },
   "file_extension": ".py",
   "mimetype": "text/x-python",
   "name": "python",
   "nbconvert_exporter": "python",
   "pygments_lexer": "ipython3",
   "version": "3.11.9"
  }
 },
 "nbformat": 4,
 "nbformat_minor": 5
}
